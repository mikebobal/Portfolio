{
 "cells": [
  {
   "cell_type": "code",
   "execution_count": null,
   "id": "3d2f342d",
   "metadata": {},
   "outputs": [],
   "source": []
  },
  {
   "cell_type": "markdown",
   "id": "c1b68179",
   "metadata": {},
   "source": [
    "Import modules"
   ]
  },
  {
   "cell_type": "code",
   "execution_count": 1,
   "id": "d7cb9a6e",
   "metadata": {},
   "outputs": [],
   "source": [
    "import numpy as np\n",
    "import pandas as pd\n",
    "import scipy.stats as stats"
   ]
  },
  {
   "cell_type": "markdown",
   "id": "8d11c448",
   "metadata": {},
   "source": [
    "Load Travis Kelce's game data"
   ]
  },
  {
   "cell_type": "code",
   "execution_count": 2,
   "id": "d58cf411",
   "metadata": {},
   "outputs": [],
   "source": [
    "df = pd.read_csv(r'C:\\Users\\Joseph Shire\\Documents\\Springboard Python Data Science\\Python Scripts\\springboard\\NFL Projects\\ETR\\etr kelce.csv')"
   ]
  },
  {
   "cell_type": "code",
   "execution_count": 3,
   "id": "f42fdf04",
   "metadata": {
    "scrolled": true
   },
   "outputs": [
    {
     "data": {
      "text/html": [
       "<div>\n",
       "<style scoped>\n",
       "    .dataframe tbody tr th:only-of-type {\n",
       "        vertical-align: middle;\n",
       "    }\n",
       "\n",
       "    .dataframe tbody tr th {\n",
       "        vertical-align: top;\n",
       "    }\n",
       "\n",
       "    .dataframe thead th {\n",
       "        text-align: right;\n",
       "    }\n",
       "</style>\n",
       "<table border=\"1\" class=\"dataframe\">\n",
       "  <thead>\n",
       "    <tr style=\"text-align: right;\">\n",
       "      <th></th>\n",
       "      <th>Rank</th>\n",
       "      <th>player</th>\n",
       "      <th>year</th>\n",
       "      <th>week</th>\n",
       "      <th>date</th>\n",
       "      <th>opponent</th>\n",
       "      <th>result</th>\n",
       "      <th>G</th>\n",
       "      <th>Routes</th>\n",
       "      <th>Tar</th>\n",
       "      <th>...</th>\n",
       "      <th>YAC</th>\n",
       "      <th>YAC/Rc</th>\n",
       "      <th>AY/Tar</th>\n",
       "      <th>RecTD</th>\n",
       "      <th>RcLg</th>\n",
       "      <th>Rec%</th>\n",
       "      <th>RecFmb</th>\n",
       "      <th>RecFL</th>\n",
       "      <th>Rec1D</th>\n",
       "      <th>PFFRcDrops</th>\n",
       "    </tr>\n",
       "  </thead>\n",
       "  <tbody>\n",
       "    <tr>\n",
       "      <th>0</th>\n",
       "      <td>1</td>\n",
       "      <td>Travis Kelce</td>\n",
       "      <td>2022</td>\n",
       "      <td>1</td>\n",
       "      <td>2022-09-11 16:25:00</td>\n",
       "      <td>Cardinals</td>\n",
       "      <td>W 44 - 21</td>\n",
       "      <td>1</td>\n",
       "      <td>32</td>\n",
       "      <td>9</td>\n",
       "      <td>...</td>\n",
       "      <td>34</td>\n",
       "      <td>4.25</td>\n",
       "      <td>10.56</td>\n",
       "      <td>1</td>\n",
       "      <td>35</td>\n",
       "      <td>88.9%</td>\n",
       "      <td>0</td>\n",
       "      <td>0</td>\n",
       "      <td>7</td>\n",
       "      <td>0</td>\n",
       "    </tr>\n",
       "    <tr>\n",
       "      <th>1</th>\n",
       "      <td>1</td>\n",
       "      <td>Travis Kelce</td>\n",
       "      <td>2022</td>\n",
       "      <td>2</td>\n",
       "      <td>2022-09-15 20:15:00</td>\n",
       "      <td>Chargers</td>\n",
       "      <td>W 27 - 24</td>\n",
       "      <td>1</td>\n",
       "      <td>35</td>\n",
       "      <td>7</td>\n",
       "      <td>...</td>\n",
       "      <td>23</td>\n",
       "      <td>4.60</td>\n",
       "      <td>8.86</td>\n",
       "      <td>0</td>\n",
       "      <td>19</td>\n",
       "      <td>71.4%</td>\n",
       "      <td>0</td>\n",
       "      <td>0</td>\n",
       "      <td>3</td>\n",
       "      <td>0</td>\n",
       "    </tr>\n",
       "    <tr>\n",
       "      <th>2</th>\n",
       "      <td>1</td>\n",
       "      <td>Travis Kelce</td>\n",
       "      <td>2022</td>\n",
       "      <td>3</td>\n",
       "      <td>2022-09-25 13:00:00</td>\n",
       "      <td>Colts</td>\n",
       "      <td>L 17 - 20</td>\n",
       "      <td>1</td>\n",
       "      <td>37</td>\n",
       "      <td>8</td>\n",
       "      <td>...</td>\n",
       "      <td>30</td>\n",
       "      <td>7.50</td>\n",
       "      <td>7.00</td>\n",
       "      <td>1</td>\n",
       "      <td>29</td>\n",
       "      <td>50.0%</td>\n",
       "      <td>0</td>\n",
       "      <td>0</td>\n",
       "      <td>3</td>\n",
       "      <td>2</td>\n",
       "    </tr>\n",
       "    <tr>\n",
       "      <th>3</th>\n",
       "      <td>1</td>\n",
       "      <td>Travis Kelce</td>\n",
       "      <td>2022</td>\n",
       "      <td>4</td>\n",
       "      <td>2022-10-02 20:20:00</td>\n",
       "      <td>Buccaneers</td>\n",
       "      <td>W 41 - 31</td>\n",
       "      <td>1</td>\n",
       "      <td>38</td>\n",
       "      <td>10</td>\n",
       "      <td>...</td>\n",
       "      <td>40</td>\n",
       "      <td>4.44</td>\n",
       "      <td>5.60</td>\n",
       "      <td>1</td>\n",
       "      <td>22</td>\n",
       "      <td>90.0%</td>\n",
       "      <td>0</td>\n",
       "      <td>0</td>\n",
       "      <td>8</td>\n",
       "      <td>0</td>\n",
       "    </tr>\n",
       "    <tr>\n",
       "      <th>4</th>\n",
       "      <td>1</td>\n",
       "      <td>Travis Kelce</td>\n",
       "      <td>2022</td>\n",
       "      <td>5</td>\n",
       "      <td>2022-10-10 20:15:00</td>\n",
       "      <td>Raiders</td>\n",
       "      <td>W 30 - 29</td>\n",
       "      <td>1</td>\n",
       "      <td>42</td>\n",
       "      <td>8</td>\n",
       "      <td>...</td>\n",
       "      <td>12</td>\n",
       "      <td>1.71</td>\n",
       "      <td>6.50</td>\n",
       "      <td>4</td>\n",
       "      <td>8</td>\n",
       "      <td>87.5%</td>\n",
       "      <td>0</td>\n",
       "      <td>0</td>\n",
       "      <td>5</td>\n",
       "      <td>0</td>\n",
       "    </tr>\n",
       "  </tbody>\n",
       "</table>\n",
       "<p>5 rows × 23 columns</p>\n",
       "</div>"
      ],
      "text/plain": [
       "   Rank        player  year  week                 date    opponent     result  \\\n",
       "0     1  Travis Kelce  2022     1  2022-09-11 16:25:00   Cardinals  W 44 - 21   \n",
       "1     1  Travis Kelce  2022     2  2022-09-15 20:15:00    Chargers  W 27 - 24   \n",
       "2     1  Travis Kelce  2022     3  2022-09-25 13:00:00       Colts  L 17 - 20   \n",
       "3     1  Travis Kelce  2022     4  2022-10-02 20:20:00  Buccaneers  W 41 - 31   \n",
       "4     1  Travis Kelce  2022     5  2022-10-10 20:15:00     Raiders  W 30 - 29   \n",
       "\n",
       "   G  Routes  Tar  ...  YAC  YAC/Rc  AY/Tar  RecTD  RcLg   Rec%  RecFmb  \\\n",
       "0  1      32    9  ...   34    4.25   10.56      1    35  88.9%       0   \n",
       "1  1      35    7  ...   23    4.60    8.86      0    19  71.4%       0   \n",
       "2  1      37    8  ...   30    7.50    7.00      1    29  50.0%       0   \n",
       "3  1      38   10  ...   40    4.44    5.60      1    22  90.0%       0   \n",
       "4  1      42    8  ...   12    1.71    6.50      4     8  87.5%       0   \n",
       "\n",
       "   RecFL Rec1D  PFFRcDrops  \n",
       "0      0     7           0  \n",
       "1      0     3           0  \n",
       "2      0     3           2  \n",
       "3      0     8           0  \n",
       "4      0     5           0  \n",
       "\n",
       "[5 rows x 23 columns]"
      ]
     },
     "execution_count": 3,
     "metadata": {},
     "output_type": "execute_result"
    }
   ],
   "source": [
    "df.head()"
   ]
  },
  {
   "cell_type": "markdown",
   "id": "6f16c7e8",
   "metadata": {},
   "source": [
    "Set the list of his longest catch for every game to a variable."
   ]
  },
  {
   "cell_type": "code",
   "execution_count": 4,
   "id": "e2710bb4",
   "metadata": {},
   "outputs": [
    {
     "data": {
      "text/plain": [
       "[35, 19, 29, 22, 8, 25, 27, 23, 46, 34, 39, 19, 37, 18, 52, 12, 15]"
      ]
     },
     "execution_count": 4,
     "metadata": {},
     "output_type": "execute_result"
    }
   ],
   "source": [
    "longest = list(df.RcLg)\n",
    "longest"
   ]
  },
  {
   "cell_type": "code",
   "execution_count": 5,
   "id": "cb97933c",
   "metadata": {},
   "outputs": [],
   "source": [
    "def long_catch(catches):\n",
    "    \"\"\"\n",
    "    This function takes the list of catch lengths and applies bootstrapping.\n",
    "    These values are sampled from, with replacement, 10000 times.\n",
    "    Then the median longest catch and our confidence interval are computed.\n",
    "    \"\"\"\n",
    "    \n",
    "    length = len(catches)\n",
    "    samples = np.array([np.random.choice(catches, size=length, replace=True) for _ in range(10000)])\n",
    "    median_samples = np.median(samples, axis=1)\n",
    "    median = np.median(median_samples)\n",
    "    std = np.std(median_samples)\n",
    "    ci = stats.norm.interval(0.95, loc=median, scale=std)\n",
    "    \n",
    "    print(\"Median Longest Catch Length =\", median)\n",
    "    print(\"95% Confidence Interval =\", ci)"
   ]
  },
  {
   "cell_type": "code",
   "execution_count": 6,
   "id": "1323a40c",
   "metadata": {},
   "outputs": [
    {
     "name": "stdout",
     "output_type": "stream",
     "text": [
      "Median Longest Catch Length = 25.0\n",
      "95% Confidence Interval = (16.838365061540223, 33.16163493845978)\n"
     ]
    }
   ],
   "source": [
    "long_catch(longest)"
   ]
  },
  {
   "cell_type": "code",
   "execution_count": null,
   "id": "c952ec21",
   "metadata": {},
   "outputs": [],
   "source": []
  }
 ],
 "metadata": {
  "kernelspec": {
   "display_name": "Python 3 (ipykernel)",
   "language": "python",
   "name": "python3"
  },
  "language_info": {
   "codemirror_mode": {
    "name": "ipython",
    "version": 3
   },
   "file_extension": ".py",
   "mimetype": "text/x-python",
   "name": "python",
   "nbconvert_exporter": "python",
   "pygments_lexer": "ipython3",
   "version": "3.11.1"
  }
 },
 "nbformat": 4,
 "nbformat_minor": 5
}
